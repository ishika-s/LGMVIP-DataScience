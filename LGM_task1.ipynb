{
  "nbformat": 4,
  "nbformat_minor": 0,
  "metadata": {
    "colab": {
      "name": "LGM_task1.ipynb",
      "provenance": [],
      "collapsed_sections": [],
      "authorship_tag": "ABX9TyNUJGTIrRmapjYv+xnG2Y2+",
      "include_colab_link": true
    },
    "kernelspec": {
      "name": "python3",
      "display_name": "Python 3"
    },
    "language_info": {
      "name": "python"
    }
  },
  "cells": [
    {
      "cell_type": "markdown",
      "metadata": {
        "id": "view-in-github",
        "colab_type": "text"
      },
      "source": [
        "<a href=\"https://colab.research.google.com/github/ishika-s/LGMVIP-DataScience/blob/main/LGM_task1.ipynb\" target=\"_parent\"><img src=\"https://colab.research.google.com/assets/colab-badge.svg\" alt=\"Open In Colab\"/></a>"
      ]
    },
    {
      "cell_type": "code",
      "metadata": {
        "colab": {
          "base_uri": "https://localhost:8080/",
          "height": 220
        },
        "id": "gb5iMdSQOlTo",
        "outputId": "37967ebd-7043-4885-a978-02348d0b395d"
      },
      "source": [
        "import pandas_datareader as pdr\n",
        "import pandas as pd\n",
        "\n",
        "# Reading the data\n",
        "url=\"https://raw.githubusercontent.com/mwitiderrick/stockprice/master/NSE-TATAGLOBAL.csv\"\n",
        "df=pd.read_csv(url)\n",
        "print(\"Data to be Analyzed:-\")\n",
        "\n",
        "df.tail()\n",
        "\n"
      ],
      "execution_count": null,
      "outputs": [
        {
          "output_type": "stream",
          "text": [
            "Data to be Analyzed:-\n"
          ],
          "name": "stdout"
        },
        {
          "output_type": "execute_result",
          "data": {
            "text/html": [
              "<div>\n",
              "<style scoped>\n",
              "    .dataframe tbody tr th:only-of-type {\n",
              "        vertical-align: middle;\n",
              "    }\n",
              "\n",
              "    .dataframe tbody tr th {\n",
              "        vertical-align: top;\n",
              "    }\n",
              "\n",
              "    .dataframe thead th {\n",
              "        text-align: right;\n",
              "    }\n",
              "</style>\n",
              "<table border=\"1\" class=\"dataframe\">\n",
              "  <thead>\n",
              "    <tr style=\"text-align: right;\">\n",
              "      <th></th>\n",
              "      <th>Date</th>\n",
              "      <th>Open</th>\n",
              "      <th>High</th>\n",
              "      <th>Low</th>\n",
              "      <th>Last</th>\n",
              "      <th>Close</th>\n",
              "      <th>Total Trade Quantity</th>\n",
              "      <th>Turnover (Lacs)</th>\n",
              "    </tr>\n",
              "  </thead>\n",
              "  <tbody>\n",
              "    <tr>\n",
              "      <th>2030</th>\n",
              "      <td>2010-07-27</td>\n",
              "      <td>117.6</td>\n",
              "      <td>119.50</td>\n",
              "      <td>112.00</td>\n",
              "      <td>118.80</td>\n",
              "      <td>118.65</td>\n",
              "      <td>586100</td>\n",
              "      <td>694.98</td>\n",
              "    </tr>\n",
              "    <tr>\n",
              "      <th>2031</th>\n",
              "      <td>2010-07-26</td>\n",
              "      <td>120.1</td>\n",
              "      <td>121.00</td>\n",
              "      <td>117.10</td>\n",
              "      <td>117.10</td>\n",
              "      <td>117.60</td>\n",
              "      <td>658440</td>\n",
              "      <td>780.01</td>\n",
              "    </tr>\n",
              "    <tr>\n",
              "      <th>2032</th>\n",
              "      <td>2010-07-23</td>\n",
              "      <td>121.8</td>\n",
              "      <td>121.95</td>\n",
              "      <td>120.25</td>\n",
              "      <td>120.35</td>\n",
              "      <td>120.65</td>\n",
              "      <td>281312</td>\n",
              "      <td>340.31</td>\n",
              "    </tr>\n",
              "    <tr>\n",
              "      <th>2033</th>\n",
              "      <td>2010-07-22</td>\n",
              "      <td>120.3</td>\n",
              "      <td>122.00</td>\n",
              "      <td>120.25</td>\n",
              "      <td>120.75</td>\n",
              "      <td>120.90</td>\n",
              "      <td>293312</td>\n",
              "      <td>355.17</td>\n",
              "    </tr>\n",
              "    <tr>\n",
              "      <th>2034</th>\n",
              "      <td>2010-07-21</td>\n",
              "      <td>122.1</td>\n",
              "      <td>123.00</td>\n",
              "      <td>121.05</td>\n",
              "      <td>121.10</td>\n",
              "      <td>121.55</td>\n",
              "      <td>658666</td>\n",
              "      <td>803.56</td>\n",
              "    </tr>\n",
              "  </tbody>\n",
              "</table>\n",
              "</div>"
            ],
            "text/plain": [
              "            Date   Open    High  ...   Close  Total Trade Quantity  Turnover (Lacs)\n",
              "2030  2010-07-27  117.6  119.50  ...  118.65                586100           694.98\n",
              "2031  2010-07-26  120.1  121.00  ...  117.60                658440           780.01\n",
              "2032  2010-07-23  121.8  121.95  ...  120.65                281312           340.31\n",
              "2033  2010-07-22  120.3  122.00  ...  120.90                293312           355.17\n",
              "2034  2010-07-21  122.1  123.00  ...  121.55                658666           803.56\n",
              "\n",
              "[5 rows x 8 columns]"
            ]
          },
          "metadata": {
            "tags": []
          },
          "execution_count": 14
        }
      ]
    },
    {
      "cell_type": "code",
      "metadata": {
        "colab": {
          "base_uri": "https://localhost:8080/"
        },
        "id": "sCJ95cdVOxR-",
        "outputId": "0e22d745-61cb-4430-c956-312ad3a78809"
      },
      "source": [
        "import pandas_datareader as pdr\n",
        "import pandas as pd\n",
        "\n",
        "\n",
        "\n",
        "\n",
        "# Reading the data\n",
        "url=\"https://raw.githubusercontent.com/mwitiderrick/stockprice/master/NSE-TATAGLOBAL.csv\"\n",
        "df=pd.read_csv(url)\n",
        "\n",
        "\n",
        "#doing prediction by considering the closed clolumn\n",
        "\n",
        "df1=df.reset_index()['Close']\n",
        "df1.shape\n",
        "\n",
        "\n",
        "\n"
      ],
      "execution_count": null,
      "outputs": [
        {
          "output_type": "execute_result",
          "data": {
            "text/plain": [
              "(2035,)"
            ]
          },
          "metadata": {
            "tags": []
          },
          "execution_count": 21
        }
      ]
    },
    {
      "cell_type": "code",
      "metadata": {
        "colab": {
          "base_uri": "https://localhost:8080/",
          "height": 282
        },
        "id": "wVmuCU9mRpGv",
        "outputId": "f7f24142-b077-4ab5-f16a-049ac8782d75"
      },
      "source": [
        "import matplotlib.pyplot as plt\n",
        "plt.plot(df1)"
      ],
      "execution_count": null,
      "outputs": [
        {
          "output_type": "execute_result",
          "data": {
            "text/plain": [
              "[<matplotlib.lines.Line2D at 0x7fcc2877bf50>]"
            ]
          },
          "metadata": {
            "tags": []
          },
          "execution_count": 22
        },
        {
          "output_type": "display_data",
          "data": {
            "image/png": "[encoded data removed]",
            "text/plain": [
              "<Figure size 432x288 with 1 Axes>"
            ]
          },
          "metadata": {
            "tags": [],
            "needs_background": "light"
          }
        }
      ]
    },
    {
      "cell_type": "code",
      "metadata": {
        "colab": {
          "base_uri": "https://localhost:8080/"
        },
        "id": "o2PkTXH3Trlr",
        "outputId": "1c4eaf82-48f9-4e99-bdf9-81c8d1f662f9"
      },
      "source": [
        "from sklearn.preprocessing import MinMaxScaler\n",
        "scaler=MinMaxScaler(feature_range=(0,1))\n",
        "df1=scaler.fit_transform(np.array(df1).reshape(-1,1))\n",
        "df1.shape"
      ],
      "execution_count": null,
      "outputs": [
        {
          "output_type": "execute_result",
          "data": {
            "text/plain": [
              "(2035, 1)"
            ]
          },
          "metadata": {
            "tags": []
          },
          "execution_count": 23
        }
      ]
    },
    {
      "cell_type": "code",
      "metadata": {
        "colab": {
          "base_uri": "https://localhost:8080/"
        },
        "id": "xvj6b9G1TtaF",
        "outputId": "86208c78-0c67-4d7f-9aff-c1d2abbbaa7b"
      },
      "source": [
        "print(df1)\n"
      ],
      "execution_count": null,
      "outputs": [
        {
          "output_type": "stream",
          "text": [
            "[[0.62418301]\n",
            " [0.62214052]\n",
            " [0.62622549]\n",
            " ...\n",
            " [0.1621732 ]\n",
            " [0.16319444]\n",
            " [0.16584967]]\n"
          ],
          "name": "stdout"
        }
      ]
    },
    {
      "cell_type": "code",
      "metadata": {
        "colab": {
          "base_uri": "https://localhost:8080/"
        },
        "id": "QN1L59rCT6xj",
        "outputId": "9886f3bb-55cd-4cd8-be14-f08dc3125a6a"
      },
      "source": [
        "#splitting data into test and training dataset\n",
        "trainingdataset_size=int(len(df1)*0.65)\n",
        "testdataset_size=len(df1)-trainingdataset_size\n",
        "training_data,test_data=df1[0:trainingdataset_size,:],df1[trainingdataset_size:len(df1),:1]\n",
        "trainingdataset_size,testdataset_size"
      ],
      "execution_count": null,
      "outputs": [
        {
          "output_type": "execute_result",
          "data": {
            "text/plain": [
              "(1322, 713)"
            ]
          },
          "metadata": {
            "tags": []
          },
          "execution_count": 35
        }
      ]
    },
    {
      "cell_type": "code",
      "metadata": {
        "colab": {
          "base_uri": "https://localhost:8080/"
        },
        "id": "NvYadbR8V0wj",
        "outputId": "bb685886-8bef-4eb4-8e55-acdeb80dc5ef"
      },
      "source": [
        "import numpy\n",
        "#converting array to matrix\n",
        "\n",
        "def create_dataset(dataset,time=1):\n",
        "    datax, datay = [],[]\n",
        "    for i in range(len(dataset)-time-1):\n",
        "        a=dataset[i:(i+time),0]\n",
        "        datax.append(a)\n",
        "        datay.append(dataset[i+time,0])\n",
        "    return numpy.array(datax),numpy.array(datay)\n",
        "time=100\n",
        "X_train, y_train=create_dataset(training_data,time)\n",
        "X_test, y_test=create_dataset(test_data,time)\n",
        "print(X_train)\n",
        "print(X_test.shape),print(y_test.shape)\n"
      ],
      "execution_count": null,
      "outputs": [
        {
          "output_type": "stream",
          "text": [
            "[[0.62418301 0.62214052 0.62622549 ... 0.83455882 0.86213235 0.85273693]\n",
            " [0.62214052 0.62622549 0.63378268 ... 0.86213235 0.85273693 0.87111928]\n",
            " [0.62622549 0.63378268 0.62234477 ... 0.85273693 0.87111928 0.84497549]\n",
            " ...\n",
            " [0.34517974 0.31781046 0.33047386 ... 0.2816585  0.27001634 0.26531863]\n",
            " [0.31781046 0.33047386 0.32128268 ... 0.27001634 0.26531863 0.27389706]\n",
            " [0.33047386 0.32128268 0.34007353 ... 0.26531863 0.27389706 0.25347222]]\n",
            "(612, 100)\n",
            "(612,)\n"
          ],
          "name": "stdout"
        },
        {
          "output_type": "execute_result",
          "data": {
            "text/plain": [
              "(None, None)"
            ]
          },
          "metadata": {
            "tags": []
          },
          "execution_count": 37
        }
      ]
    },
    {
      "cell_type": "code",
      "metadata": {
        "id": "t11V5yGGV__x"
      },
      "source": [
        "#reshaping\n",
        "X_train=X_train.reshape(X_train.shape[0],X_train.shape[1],1)\n",
        "X_test=X_test.reshape(X_test.shape[0],X_test.shape[1],1)"
      ],
      "execution_count": null,
      "outputs": []
    },
    {
      "cell_type": "code",
      "metadata": {
        "colab": {
          "base_uri": "https://localhost:8080/"
        },
        "id": "1GrxLz-1YXS3",
        "outputId": "f6c013d2-d910-45d4-a3b9-64aaf0ad61e2"
      },
      "source": [
        "#creating the LSTM Model\n",
        "from tensorflow.keras.models import Sequential\n",
        "from tensorflow.keras.layers import Dense\n",
        "from tensorflow.keras.layers import LSTM\n",
        "model=Sequential()\n",
        "model.add(LSTM(50,return_sequences=True,input_shape=(100,1)))\n",
        "model.add(LSTM(50,return_sequences=True))\n",
        "model.add(LSTM(50))\n",
        "model.add(Dense(1))\n",
        "model.compile(loss='mean_squared_error',optimizer='adam')\n",
        "model.summary()"
      ],
      "execution_count": null,
      "outputs": [
        {
          "output_type": "stream",
          "text": [
            "Model: \"sequential\"\n",
            "_________________________________________________________________\n",
            "Layer (type)                 Output Shape              Param #   \n",
            "=================================================================\n",
            "lstm (LSTM)                  (None, 100, 50)           10400     \n",
            "_________________________________________________________________\n",
            "lstm_1 (LSTM)                (None, 100, 50)           20200     \n",
            "_________________________________________________________________\n",
            "lstm_2 (LSTM)                (None, 50)                20200     \n",
            "_________________________________________________________________\n",
            "dense (Dense)                (None, 1)                 51        \n",
            "=================================================================\n",
            "Total params: 50,851\n",
            "Trainable params: 50,851\n",
            "Non-trainable params: 0\n",
            "_________________________________________________________________\n"
          ],
          "name": "stdout"
        }
      ]
    },
    {
      "cell_type": "code",
      "metadata": {
        "colab": {
          "base_uri": "https://localhost:8080/"
        },
        "id": "0J4hRZbAZ3W_",
        "outputId": "72cf7426-70db-4dc3-eff7-4ca31e429d2c"
      },
      "source": [
        "model.fit(X_train,y_train,validation_data=(X_test,y_test),epochs=100,batch_size=64,verbose=1)"
      ],
      "execution_count": null,
      "outputs": [
        {
          "output_type": "stream",
          "text": [
            "Epoch 1/100\n",
            "20/20 [==============================] - 10s 244ms/step - loss: 0.0268 - val_loss: 0.0068\n",
            "Epoch 2/100\n",
            "20/20 [==============================] - 4s 183ms/step - loss: 0.0044 - val_loss: 0.0016\n",
            "Epoch 3/100\n",
            "20/20 [==============================] - 4s 183ms/step - loss: 0.0017 - val_loss: 0.0011\n",
            "Epoch 4/100\n",
            "20/20 [==============================] - 4s 185ms/step - loss: 0.0016 - val_loss: 0.0014\n",
            "Epoch 5/100\n",
            "20/20 [==============================] - 4s 180ms/step - loss: 0.0015 - val_loss: 0.0012\n",
            "Epoch 6/100\n",
            "20/20 [==============================] - 4s 189ms/step - loss: 0.0014 - val_loss: 0.0014\n",
            "Epoch 7/100\n",
            "20/20 [==============================] - 4s 185ms/step - loss: 0.0016 - val_loss: 0.0012\n",
            "Epoch 8/100\n",
            "20/20 [==============================] - 4s 181ms/step - loss: 0.0014 - val_loss: 0.0013\n",
            "Epoch 9/100\n",
            "20/20 [==============================] - 4s 183ms/step - loss: 0.0012 - val_loss: 0.0012\n",
            "Epoch 10/100\n",
            "20/20 [==============================] - 4s 182ms/step - loss: 0.0011 - val_loss: 0.0012\n",
            "Epoch 11/100\n",
            "20/20 [==============================] - 4s 181ms/step - loss: 0.0011 - val_loss: 8.5318e-04\n",
            "Epoch 12/100\n",
            "20/20 [==============================] - 4s 184ms/step - loss: 0.0011 - val_loss: 7.7126e-04\n",
            "Epoch 13/100\n",
            "20/20 [==============================] - 4s 183ms/step - loss: 0.0010 - val_loss: 8.1126e-04\n",
            "Epoch 14/100\n",
            "20/20 [==============================] - 4s 182ms/step - loss: 9.6531e-04 - val_loss: 8.6692e-04\n",
            "Epoch 15/100\n",
            "20/20 [==============================] - 4s 182ms/step - loss: 8.8304e-04 - val_loss: 7.9741e-04\n",
            "Epoch 16/100\n",
            "20/20 [==============================] - 4s 189ms/step - loss: 8.8051e-04 - val_loss: 8.2379e-04\n",
            "Epoch 17/100\n",
            "20/20 [==============================] - 4s 182ms/step - loss: 8.2279e-04 - val_loss: 0.0011\n",
            "Epoch 18/100\n",
            "20/20 [==============================] - 4s 185ms/step - loss: 9.9063e-04 - val_loss: 7.4793e-04\n",
            "Epoch 19/100\n",
            "20/20 [==============================] - 4s 182ms/step - loss: 8.5069e-04 - val_loss: 9.3702e-04\n",
            "Epoch 20/100\n",
            "20/20 [==============================] - 4s 181ms/step - loss: 7.3603e-04 - val_loss: 7.0326e-04\n",
            "Epoch 21/100\n",
            "20/20 [==============================] - 4s 181ms/step - loss: 7.2115e-04 - val_loss: 6.5409e-04\n",
            "Epoch 22/100\n",
            "20/20 [==============================] - 4s 186ms/step - loss: 8.3939e-04 - val_loss: 6.6298e-04\n",
            "Epoch 23/100\n",
            "20/20 [==============================] - 4s 182ms/step - loss: 6.8544e-04 - val_loss: 7.7155e-04\n",
            "Epoch 24/100\n",
            "20/20 [==============================] - 4s 182ms/step - loss: 7.2023e-04 - val_loss: 7.3622e-04\n",
            "Epoch 25/100\n",
            "20/20 [==============================] - 4s 184ms/step - loss: 6.6077e-04 - val_loss: 7.9518e-04\n",
            "Epoch 26/100\n",
            "20/20 [==============================] - 4s 184ms/step - loss: 6.5839e-04 - val_loss: 7.9790e-04\n",
            "Epoch 27/100\n",
            "20/20 [==============================] - 4s 182ms/step - loss: 6.7532e-04 - val_loss: 6.5635e-04\n",
            "Epoch 28/100\n",
            "20/20 [==============================] - 4s 182ms/step - loss: 6.4202e-04 - val_loss: 6.8453e-04\n",
            "Epoch 29/100\n",
            "20/20 [==============================] - 4s 183ms/step - loss: 6.5732e-04 - val_loss: 8.0964e-04\n",
            "Epoch 30/100\n",
            "20/20 [==============================] - 4s 182ms/step - loss: 6.8661e-04 - val_loss: 6.8604e-04\n",
            "Epoch 31/100\n",
            "20/20 [==============================] - 4s 184ms/step - loss: 6.3634e-04 - val_loss: 5.5679e-04\n",
            "Epoch 32/100\n",
            "20/20 [==============================] - 4s 182ms/step - loss: 5.7441e-04 - val_loss: 0.0012\n",
            "Epoch 33/100\n",
            "20/20 [==============================] - 4s 182ms/step - loss: 8.7679e-04 - val_loss: 6.9587e-04\n",
            "Epoch 34/100\n",
            "20/20 [==============================] - 4s 181ms/step - loss: 6.3433e-04 - val_loss: 8.3951e-04\n",
            "Epoch 35/100\n",
            "20/20 [==============================] - 4s 185ms/step - loss: 7.2044e-04 - val_loss: 9.9747e-04\n",
            "Epoch 36/100\n",
            "20/20 [==============================] - 4s 181ms/step - loss: 5.7931e-04 - val_loss: 7.4574e-04\n",
            "Epoch 37/100\n",
            "20/20 [==============================] - 4s 180ms/step - loss: 6.7608e-04 - val_loss: 6.9317e-04\n",
            "Epoch 38/100\n",
            "20/20 [==============================] - 4s 187ms/step - loss: 5.7233e-04 - val_loss: 6.8489e-04\n",
            "Epoch 39/100\n",
            "20/20 [==============================] - 4s 182ms/step - loss: 5.4120e-04 - val_loss: 5.4413e-04\n",
            "Epoch 40/100\n",
            "20/20 [==============================] - 4s 182ms/step - loss: 5.1081e-04 - val_loss: 5.4643e-04\n",
            "Epoch 41/100\n",
            "20/20 [==============================] - 4s 181ms/step - loss: 5.4826e-04 - val_loss: 5.5506e-04\n",
            "Epoch 42/100\n",
            "20/20 [==============================] - 4s 183ms/step - loss: 6.6529e-04 - val_loss: 6.9882e-04\n",
            "Epoch 43/100\n",
            "20/20 [==============================] - 4s 187ms/step - loss: 4.9661e-04 - val_loss: 5.6429e-04\n",
            "Epoch 44/100\n",
            "20/20 [==============================] - 4s 183ms/step - loss: 4.8523e-04 - val_loss: 5.6081e-04\n",
            "Epoch 45/100\n",
            "20/20 [==============================] - 4s 183ms/step - loss: 5.4636e-04 - val_loss: 6.9775e-04\n",
            "Epoch 46/100\n",
            "20/20 [==============================] - 4s 185ms/step - loss: 5.4465e-04 - val_loss: 4.4097e-04\n",
            "Epoch 47/100\n",
            "20/20 [==============================] - 4s 187ms/step - loss: 5.1074e-04 - val_loss: 4.7067e-04\n",
            "Epoch 48/100\n",
            "20/20 [==============================] - 4s 183ms/step - loss: 4.5617e-04 - val_loss: 5.1914e-04\n",
            "Epoch 49/100\n",
            "20/20 [==============================] - 4s 185ms/step - loss: 4.5277e-04 - val_loss: 4.6234e-04\n",
            "Epoch 50/100\n",
            "20/20 [==============================] - 4s 183ms/step - loss: 5.0003e-04 - val_loss: 5.9180e-04\n",
            "Epoch 51/100\n",
            "20/20 [==============================] - 4s 182ms/step - loss: 4.7526e-04 - val_loss: 6.3830e-04\n",
            "Epoch 52/100\n",
            "20/20 [==============================] - 4s 181ms/step - loss: 5.5915e-04 - val_loss: 5.1671e-04\n",
            "Epoch 53/100\n",
            "20/20 [==============================] - 4s 185ms/step - loss: 4.2051e-04 - val_loss: 5.0112e-04\n",
            "Epoch 54/100\n",
            "20/20 [==============================] - 4s 186ms/step - loss: 4.4496e-04 - val_loss: 4.1772e-04\n",
            "Epoch 55/100\n",
            "20/20 [==============================] - 4s 182ms/step - loss: 4.0982e-04 - val_loss: 7.4102e-04\n",
            "Epoch 56/100\n",
            "20/20 [==============================] - 4s 181ms/step - loss: 4.6524e-04 - val_loss: 5.0421e-04\n",
            "Epoch 57/100\n",
            "20/20 [==============================] - 4s 184ms/step - loss: 4.5826e-04 - val_loss: 3.6149e-04\n",
            "Epoch 58/100\n",
            "20/20 [==============================] - 4s 184ms/step - loss: 4.6782e-04 - val_loss: 4.9962e-04\n",
            "Epoch 59/100\n",
            "20/20 [==============================] - 4s 184ms/step - loss: 3.8233e-04 - val_loss: 4.2176e-04\n",
            "Epoch 60/100\n",
            "20/20 [==============================] - 4s 184ms/step - loss: 3.7727e-04 - val_loss: 3.9310e-04\n",
            "Epoch 61/100\n",
            "20/20 [==============================] - 4s 183ms/step - loss: 3.9990e-04 - val_loss: 3.9745e-04\n",
            "Epoch 62/100\n",
            "20/20 [==============================] - 4s 183ms/step - loss: 3.7226e-04 - val_loss: 4.1762e-04\n",
            "Epoch 63/100\n",
            "20/20 [==============================] - 4s 182ms/step - loss: 4.0687e-04 - val_loss: 6.3036e-04\n",
            "Epoch 64/100\n",
            "20/20 [==============================] - 4s 184ms/step - loss: 5.3045e-04 - val_loss: 4.0459e-04\n",
            "Epoch 65/100\n",
            "20/20 [==============================] - 4s 187ms/step - loss: 3.4764e-04 - val_loss: 3.7102e-04\n",
            "Epoch 66/100\n",
            "20/20 [==============================] - 4s 184ms/step - loss: 3.4629e-04 - val_loss: 3.2236e-04\n",
            "Epoch 67/100\n",
            "20/20 [==============================] - 4s 183ms/step - loss: 3.3769e-04 - val_loss: 3.2909e-04\n",
            "Epoch 68/100\n",
            "20/20 [==============================] - 4s 182ms/step - loss: 3.4953e-04 - val_loss: 3.9346e-04\n",
            "Epoch 69/100\n",
            "20/20 [==============================] - 4s 191ms/step - loss: 3.7826e-04 - val_loss: 3.0403e-04\n",
            "Epoch 70/100\n",
            "20/20 [==============================] - 4s 185ms/step - loss: 3.3751e-04 - val_loss: 3.2819e-04\n",
            "Epoch 71/100\n",
            "20/20 [==============================] - 4s 187ms/step - loss: 3.2028e-04 - val_loss: 6.2300e-04\n",
            "Epoch 72/100\n",
            "20/20 [==============================] - 4s 184ms/step - loss: 5.0006e-04 - val_loss: 3.2076e-04\n",
            "Epoch 73/100\n",
            "20/20 [==============================] - 4s 182ms/step - loss: 3.1671e-04 - val_loss: 3.2402e-04\n",
            "Epoch 74/100\n",
            "20/20 [==============================] - 4s 185ms/step - loss: 3.3582e-04 - val_loss: 4.2679e-04\n",
            "Epoch 75/100\n",
            "20/20 [==============================] - 4s 186ms/step - loss: 3.4190e-04 - val_loss: 2.5070e-04\n",
            "Epoch 76/100\n",
            "20/20 [==============================] - 4s 189ms/step - loss: 2.9633e-04 - val_loss: 2.6374e-04\n",
            "Epoch 77/100\n",
            "20/20 [==============================] - 4s 183ms/step - loss: 2.7261e-04 - val_loss: 3.1966e-04\n",
            "Epoch 78/100\n",
            "20/20 [==============================] - 4s 183ms/step - loss: 2.6794e-04 - val_loss: 2.6477e-04\n",
            "Epoch 79/100\n",
            "20/20 [==============================] - 4s 184ms/step - loss: 2.9413e-04 - val_loss: 4.6777e-04\n",
            "Epoch 80/100\n",
            "20/20 [==============================] - 4s 185ms/step - loss: 3.7795e-04 - val_loss: 2.4334e-04\n",
            "Epoch 81/100\n",
            "20/20 [==============================] - 4s 185ms/step - loss: 2.8144e-04 - val_loss: 4.4850e-04\n",
            "Epoch 82/100\n",
            "20/20 [==============================] - 4s 189ms/step - loss: 2.6708e-04 - val_loss: 3.5674e-04\n",
            "Epoch 83/100\n",
            "20/20 [==============================] - 4s 185ms/step - loss: 4.0843e-04 - val_loss: 2.6534e-04\n",
            "Epoch 84/100\n",
            "20/20 [==============================] - 4s 185ms/step - loss: 3.6865e-04 - val_loss: 3.8923e-04\n",
            "Epoch 85/100\n",
            "20/20 [==============================] - 4s 182ms/step - loss: 2.8586e-04 - val_loss: 2.4905e-04\n",
            "Epoch 86/100\n",
            "20/20 [==============================] - 4s 184ms/step - loss: 2.7609e-04 - val_loss: 2.1309e-04\n",
            "Epoch 87/100\n",
            "20/20 [==============================] - 4s 183ms/step - loss: 2.5129e-04 - val_loss: 2.3264e-04\n",
            "Epoch 88/100\n",
            "20/20 [==============================] - 4s 187ms/step - loss: 4.7394e-04 - val_loss: 3.3911e-04\n",
            "Epoch 89/100\n",
            "20/20 [==============================] - 4s 182ms/step - loss: 2.7873e-04 - val_loss: 2.6724e-04\n",
            "Epoch 90/100\n",
            "20/20 [==============================] - 4s 185ms/step - loss: 2.3444e-04 - val_loss: 2.0799e-04\n",
            "Epoch 91/100\n",
            "20/20 [==============================] - 4s 186ms/step - loss: 2.6089e-04 - val_loss: 3.1052e-04\n",
            "Epoch 92/100\n",
            "20/20 [==============================] - 4s 185ms/step - loss: 2.4524e-04 - val_loss: 2.5595e-04\n",
            "Epoch 93/100\n",
            "20/20 [==============================] - 4s 186ms/step - loss: 2.2812e-04 - val_loss: 2.3463e-04\n",
            "Epoch 94/100\n",
            "20/20 [==============================] - 4s 183ms/step - loss: 2.2295e-04 - val_loss: 2.8181e-04\n",
            "Epoch 95/100\n",
            "20/20 [==============================] - 4s 185ms/step - loss: 2.2641e-04 - val_loss: 2.4918e-04\n",
            "Epoch 96/100\n",
            "20/20 [==============================] - 4s 183ms/step - loss: 2.2267e-04 - val_loss: 2.5642e-04\n",
            "Epoch 97/100\n",
            "20/20 [==============================] - 4s 184ms/step - loss: 2.3518e-04 - val_loss: 2.1665e-04\n",
            "Epoch 98/100\n",
            "20/20 [==============================] - 4s 184ms/step - loss: 3.8662e-04 - val_loss: 2.1617e-04\n",
            "Epoch 99/100\n",
            "20/20 [==============================] - 4s 183ms/step - loss: 5.5003e-04 - val_loss: 2.6458e-04\n",
            "Epoch 100/100\n",
            "20/20 [==============================] - 4s 182ms/step - loss: 3.0790e-04 - val_loss: 1.9657e-04\n"
          ],
          "name": "stdout"
        },
        {
          "output_type": "execute_result",
          "data": {
            "text/plain": [
              "<tensorflow.python.keras.callbacks.History at 0x7fcbe5aa5c50>"
            ]
          },
          "metadata": {
            "tags": []
          },
          "execution_count": 40
        }
      ]
    },
    {
      "cell_type": "code",
      "metadata": {
        "colab": {
          "base_uri": "https://localhost:8080/",
          "height": 35
        },
        "id": "_w_0unJmbXsr",
        "outputId": "9ba31f06-4293-446f-9aff-2561b97e825f"
      },
      "source": [
        "import tensorflow as trf\n",
        "trf.__version__"
      ],
      "execution_count": null,
      "outputs": [
        {
          "output_type": "execute_result",
          "data": {
            "application/vnd.google.colaboratory.intrinsic+json": {
              "type": "string"
            },
            "text/plain": [
              "'2.5.0'"
            ]
          },
          "metadata": {
            "tags": []
          },
          "execution_count": 42
        }
      ]
    },
    {
      "cell_type": "code",
      "metadata": {
        "colab": {
          "base_uri": "https://localhost:8080/"
        },
        "id": "YCSoI5Gqcx5m",
        "outputId": "9c07b358-bb3a-40a0-bafb-59ddf79b073f"
      },
      "source": [
        "#Doing the prediction on the given data\n",
        "\n",
        "train_predict=model.predict(X_train)\n",
        "test_predict=model.predict(X_test)\n",
        "#transformation\n",
        "train_predict=scaler.inverse_transform(train_predict)\n",
        "test_predict=scaler.inverse_transform(test_predict)\n",
        "\n",
        "#calculating the rmse performance matrix\n",
        "\n",
        "import math as mth\n",
        "from sklearn.metrics import mean_squared_error\n",
        "mth.sqrt(mean_squared_error(y_train,train_predict))\n"
      ],
      "execution_count": null,
      "outputs": [
        {
          "output_type": "execute_result",
          "data": {
            "text/plain": [
              "165.25868468909968"
            ]
          },
          "metadata": {
            "tags": []
          },
          "execution_count": 48
        }
      ]
    },
    {
      "cell_type": "code",
      "metadata": {
        "colab": {
          "base_uri": "https://localhost:8080/"
        },
        "id": "LRkB8r3Fd8W1",
        "outputId": "3f20bf3e-5f52-41bf-94e9-e485c39084f1"
      },
      "source": [
        "mth.sqrt(mean_squared_error(y_test,test_predict))"
      ],
      "execution_count": null,
      "outputs": [
        {
          "output_type": "execute_result",
          "data": {
            "text/plain": [
              "115.26846503105324"
            ]
          },
          "metadata": {
            "tags": []
          },
          "execution_count": 49
        }
      ]
    },
    {
      "cell_type": "code",
      "metadata": {
        "colab": {
          "base_uri": "https://localhost:8080/",
          "height": 265
        },
        "id": "r9VLqOnGeJ9L",
        "outputId": "8630ae78-dc59-44fa-ffee-ef1749d1f81b"
      },
      "source": [
        "# Plotting the prediction\n",
        "\n",
        "look=100\n",
        "#shifting prediction for plotting\n",
        "trainpredictplot=numpy.empty_like(df1)\n",
        "trainpredictplot[:,:]=np.nan\n",
        "trainpredictplot[look:len(train_predict)+look,:] = train_predict\n",
        "testpredictplot=numpy.empty_like(df1)\n",
        "testpredictplot[:,:]=numpy.nan\n",
        "testpredictplot[len(train_predict)+(look*2)+1:len(df1)-1,:] = test_predict\n",
        "#plotting baseline\n",
        "plt.plot(scaler.inverse_transform(df1))\n",
        "plt.plot(trainpredictplot)\n",
        "plt.plot(testpredictplot)\n",
        "plt.show()"
      ],
      "execution_count": null,
      "outputs": [
        {
          "output_type": "display_data",
          "data": {
            "image/png": "[encoded data removed]",
            "text/plain": [
              "<Figure size 432x288 with 1 Axes>"
            ]
          },
          "metadata": {
            "tags": [],
            "needs_background": "light"
          }
        }
      ]
    },
    {
      "cell_type": "code",
      "metadata": {
        "colab": {
          "base_uri": "https://localhost:8080/"
        },
        "id": "fCqNFp_kgn9G",
        "outputId": "ca57bb54-f952-4c7d-9d05-0132ef5c17f8"
      },
      "source": [
        "len(test_data)"
      ],
      "execution_count": null,
      "outputs": [
        {
          "output_type": "execute_result",
          "data": {
            "text/plain": [
              "713"
            ]
          },
          "metadata": {
            "tags": []
          },
          "execution_count": 51
        }
      ]
    },
    {
      "cell_type": "code",
      "metadata": {
        "colab": {
          "base_uri": "https://localhost:8080/"
        },
        "id": "SXjmUrKAhSQF",
        "outputId": "f0e6f505-8081-48d0-cd37-7c9b5ebc01c8"
      },
      "source": [
        "X_input=test_data[613:].reshape(1,-1)\n",
        "X_input.shape"
      ],
      "execution_count": null,
      "outputs": [
        {
          "output_type": "execute_result",
          "data": {
            "text/plain": [
              "(1, 100)"
            ]
          },
          "metadata": {
            "tags": []
          },
          "execution_count": 52
        }
      ]
    },
    {
      "cell_type": "code",
      "metadata": {
        "colab": {
          "base_uri": "https://localhost:8080/"
        },
        "id": "SXnkkRunhxAg",
        "outputId": "b6c0f8a6-7466-44b1-9a38-b2d60f61c0b4"
      },
      "source": [
        "temp_input=list(X_input)\n",
        "temp_input=temp_input[0].tolist()\n",
        "temp_input"
      ],
      "execution_count": null,
      "outputs": [
        {
          "output_type": "execute_result",
          "data": {
            "text/plain": [
              "[0.12479575163398693,\n",
              " 0.1384803921568627,\n",
              " 0.14011437908496732,\n",
              " 0.1388888888888889,\n",
              " 0.13541666666666663,\n",
              " 0.14011437908496732,\n",
              " 0.13807189542483655,\n",
              " 0.130718954248366,\n",
              " 0.130718954248366,\n",
              " 0.12867647058823528,\n",
              " 0.11846405228758167,\n",
              " 0.14644607843137253,\n",
              " 0.1480800653594771,\n",
              " 0.159109477124183,\n",
              " 0.15992647058823523,\n",
              " 0.1578839869281045,\n",
              " 0.16441993464052285,\n",
              " 0.178921568627451,\n",
              " 0.17933006535947704,\n",
              " 0.19260620915032678,\n",
              " 0.2081290849673203,\n",
              " 0.18974673202614378,\n",
              " 0.18055555555555558,\n",
              " 0.1823937908496731,\n",
              " 0.17708333333333326,\n",
              " 0.17810457516339862,\n",
              " 0.18055555555555558,\n",
              " 0.17810457516339862,\n",
              " 0.17851307189542487,\n",
              " 0.196078431372549,\n",
              " 0.18913398692810457,\n",
              " 0.1895424836601307,\n",
              " 0.19403594771241828,\n",
              " 0.19444444444444442,\n",
              " 0.20200163398692816,\n",
              " 0.19771241830065356,\n",
              " 0.19934640522875813,\n",
              " 0.19873366013071891,\n",
              " 0.19975490196078427,\n",
              " 0.21282679738562094,\n",
              " 0.21568627450980393,\n",
              " 0.2044526143790849,\n",
              " 0.21772875816993464,\n",
              " 0.21098856209150318,\n",
              " 0.21425653594771243,\n",
              " 0.1975081699346406,\n",
              " 0.1881127450980392,\n",
              " 0.17851307189542487,\n",
              " 0.17381535947712412,\n",
              " 0.16033496732026142,\n",
              " 0.16564542483660127,\n",
              " 0.1711601307189542,\n",
              " 0.17422385620915026,\n",
              " 0.1803513071895424,\n",
              " 0.1740196078431372,\n",
              " 0.16278594771241828,\n",
              " 0.1697303921568627,\n",
              " 0.17810457516339862,\n",
              " 0.1703431372549019,\n",
              " 0.16830065359477125,\n",
              " 0.17279411764705876,\n",
              " 0.1754493464052288,\n",
              " 0.18382352941176472,\n",
              " 0.19138071895424835,\n",
              " 0.18913398692810457,\n",
              " 0.1909722222222222,\n",
              " 0.17238562091503273,\n",
              " 0.16830065359477125,\n",
              " 0.16932189542483655,\n",
              " 0.1717728758169934,\n",
              " 0.16156045751633985,\n",
              " 0.14971405228758167,\n",
              " 0.15032679738562088,\n",
              " 0.1519607843137255,\n",
              " 0.1472630718954248,\n",
              " 0.14501633986928103,\n",
              " 0.14603758169934639,\n",
              " 0.12479575163398693,\n",
              " 0.13112745098039214,\n",
              " 0.11397058823529405,\n",
              " 0.11907679738562088,\n",
              " 0.12377450980392157,\n",
              " 0.13562091503267976,\n",
              " 0.12908496732026142,\n",
              " 0.1345996732026144,\n",
              " 0.12806372549019607,\n",
              " 0.13031045751633985,\n",
              " 0.12724673202614373,\n",
              " 0.13521241830065356,\n",
              " 0.1452205882352941,\n",
              " 0.15257352941176466,\n",
              " 0.14848856209150324,\n",
              " 0.14338235294117646,\n",
              " 0.14562908496732024,\n",
              " 0.1523692810457516,\n",
              " 0.15400326797385622,\n",
              " 0.14971405228758167,\n",
              " 0.16217320261437906,\n",
              " 0.16319444444444448,\n",
              " 0.16584967320261434]"
            ]
          },
          "metadata": {
            "tags": []
          },
          "execution_count": 53
        }
      ]
    },
    {
      "cell_type": "code",
      "metadata": {
        "colab": {
          "base_uri": "https://localhost:8080/"
        },
        "id": "45NZfXZCitlD",
        "outputId": "24eacf17-1a13-4f27-e1ab-ed1ff210b7b8"
      },
      "source": [
        "from numpy import array\n",
        "\n",
        "list_ot=[]\n",
        "steps=100\n",
        "i=0\n",
        "while(i<30):\n",
        "  if(len(temp_input)>100):\n",
        "    X_input=np.array(temp_input[1:])\n",
        "    print(\"{} day input {}\".format(i,X_input))\n",
        "    X_input=X_input.reshape(1,-1)\n",
        "    X_input=X_input.reshape((1,steps,1))\n",
        "    yhat=model.predict(X_input, verbose=0)\n",
        "    print(\"{} day output {}\".format(i,yhat))\n",
        "    temp_input.extend(yhat[0].tolist())\n",
        "    temp_input=temp_input[1:]\n",
        "    list_ot.extend(yhat.tolist())\n",
        "    i=i+1\n",
        "  else:\n",
        "    X_input=X_input.reshape((1,steps,1))\n",
        "    yhat=model.predict(X_input, verbose=0)\n",
        "    print(yhat[0])\n",
        "    temp_input.extend(yhat[0].tolist())\n",
        "    print(len(temp_input))\n",
        "    list_ot.extend(yhat.tolist())\n",
        "    i=i+1\n",
        "\n",
        "print(list_ot)"
      ],
      "execution_count": null,
      "outputs": [
        {
          "output_type": "stream",
          "text": [
            "0 day input [0.1419576  0.1419576  0.14195758 0.14195758 0.14195758 0.14195758\n",
            " 0.14195758 0.14195758 0.14195758 0.14195758 0.14195758 0.1419576\n",
            " 0.1419576  0.14195758 0.1419576  0.1419576  0.1419576  0.14195758\n",
            " 0.14195757 0.14195758 0.14195758 0.14195758 0.14195758 0.14195758\n",
            " 0.1419576  0.1419576  0.14195758 0.14195758 0.14195758 0.1419576\n",
            " 0.1419576  0.14195758 0.1419576  0.1419576  0.1419576  0.1419576\n",
            " 0.1419576  0.1419576  0.14195758 0.1419576  0.14195758 0.1419576\n",
            " 0.1419576  0.14195758 0.1419576  0.14195758 0.1419576  0.14195758\n",
            " 0.1419576  0.1419576  0.14195758 0.1419576  0.1419576  0.1419576\n",
            " 0.14195758 0.14195758 0.14195758 0.14195758 0.14195758 0.1419576\n",
            " 0.14195758 0.14195758 0.14195758 0.1419576  0.1419576  0.1419576\n",
            " 0.1419576  0.14195758 0.14195758 0.14195758 0.14195758 0.14195758\n",
            " 0.1419576  0.14195758 0.1419576  0.1419576  0.1419576  0.1419576\n",
            " 0.1419576  0.1419576  0.1419576  0.1419576  0.1419576  0.1419576\n",
            " 0.1419576  0.1419576  0.1419576  0.1419576  0.1419576  0.1419576\n",
            " 0.1419576  0.1419576  0.1419576  0.1419576  0.14195758 0.14195758\n",
            " 0.14195757 0.14195758 0.14195757 0.14195758]\n",
            "0 day output [[0.14195757]]\n",
            "1 day input [0.1419576  0.14195758 0.14195758 0.14195758 0.14195758 0.14195758\n",
            " 0.14195758 0.14195758 0.14195758 0.14195758 0.1419576  0.1419576\n",
            " 0.14195758 0.1419576  0.1419576  0.1419576  0.14195758 0.14195757\n",
            " 0.14195758 0.14195758 0.14195758 0.14195758 0.14195758 0.1419576\n",
            " 0.1419576  0.14195758 0.14195758 0.14195758 0.1419576  0.1419576\n",
            " 0.14195758 0.1419576  0.1419576  0.1419576  0.1419576  0.1419576\n",
            " 0.1419576  0.14195758 0.1419576  0.14195758 0.1419576  0.1419576\n",
            " 0.14195758 0.1419576  0.14195758 0.1419576  0.14195758 0.1419576\n",
            " 0.1419576  0.14195758 0.1419576  0.1419576  0.1419576  0.14195758\n",
            " 0.14195758 0.14195758 0.14195758 0.14195758 0.1419576  0.14195758\n",
            " 0.14195758 0.14195758 0.1419576  0.1419576  0.1419576  0.1419576\n",
            " 0.14195758 0.14195758 0.14195758 0.14195758 0.14195758 0.1419576\n",
            " 0.14195758 0.1419576  0.1419576  0.1419576  0.1419576  0.1419576\n",
            " 0.1419576  0.1419576  0.1419576  0.1419576  0.1419576  0.1419576\n",
            " 0.1419576  0.1419576  0.1419576  0.1419576  0.1419576  0.1419576\n",
            " 0.1419576  0.1419576  0.1419576  0.14195758 0.14195758 0.14195757\n",
            " 0.14195758 0.14195757 0.14195758 0.14195757]\n",
            "1 day output [[0.14195757]]\n",
            "2 day input [0.14195758 0.14195758 0.14195758 0.14195758 0.14195758 0.14195758\n",
            " 0.14195758 0.14195758 0.14195758 0.1419576  0.1419576  0.14195758\n",
            " 0.1419576  0.1419576  0.1419576  0.14195758 0.14195757 0.14195758\n",
            " 0.14195758 0.14195758 0.14195758 0.14195758 0.1419576  0.1419576\n",
            " 0.14195758 0.14195758 0.14195758 0.1419576  0.1419576  0.14195758\n",
            " 0.1419576  0.1419576  0.1419576  0.1419576  0.1419576  0.1419576\n",
            " 0.14195758 0.1419576  0.14195758 0.1419576  0.1419576  0.14195758\n",
            " 0.1419576  0.14195758 0.1419576  0.14195758 0.1419576  0.1419576\n",
            " 0.14195758 0.1419576  0.1419576  0.1419576  0.14195758 0.14195758\n",
            " 0.14195758 0.14195758 0.14195758 0.1419576  0.14195758 0.14195758\n",
            " 0.14195758 0.1419576  0.1419576  0.1419576  0.1419576  0.14195758\n",
            " 0.14195758 0.14195758 0.14195758 0.14195758 0.1419576  0.14195758\n",
            " 0.1419576  0.1419576  0.1419576  0.1419576  0.1419576  0.1419576\n",
            " 0.1419576  0.1419576  0.1419576  0.1419576  0.1419576  0.1419576\n",
            " 0.1419576  0.1419576  0.1419576  0.1419576  0.1419576  0.1419576\n",
            " 0.1419576  0.1419576  0.14195758 0.14195758 0.14195757 0.14195758\n",
            " 0.14195757 0.14195758 0.14195757 0.14195757]\n",
            "2 day output [[0.14195758]]\n",
            "3 day input [0.14195758 0.14195758 0.14195758 0.14195758 0.14195758 0.14195758\n",
            " 0.14195758 0.14195758 0.1419576  0.1419576  0.14195758 0.1419576\n",
            " 0.1419576  0.1419576  0.14195758 0.14195757 0.14195758 0.14195758\n",
            " 0.14195758 0.14195758 0.14195758 0.1419576  0.1419576  0.14195758\n",
            " 0.14195758 0.14195758 0.1419576  0.1419576  0.14195758 0.1419576\n",
            " 0.1419576  0.1419576  0.1419576  0.1419576  0.1419576  0.14195758\n",
            " 0.1419576  0.14195758 0.1419576  0.1419576  0.14195758 0.1419576\n",
            " 0.14195758 0.1419576  0.14195758 0.1419576  0.1419576  0.14195758\n",
            " 0.1419576  0.1419576  0.1419576  0.14195758 0.14195758 0.14195758\n",
            " 0.14195758 0.14195758 0.1419576  0.14195758 0.14195758 0.14195758\n",
            " 0.1419576  0.1419576  0.1419576  0.1419576  0.14195758 0.14195758\n",
            " 0.14195758 0.14195758 0.14195758 0.1419576  0.14195758 0.1419576\n",
            " 0.1419576  0.1419576  0.1419576  0.1419576  0.1419576  0.1419576\n",
            " 0.1419576  0.1419576  0.1419576  0.1419576  0.1419576  0.1419576\n",
            " 0.1419576  0.1419576  0.1419576  0.1419576  0.1419576  0.1419576\n",
            " 0.1419576  0.14195758 0.14195758 0.14195757 0.14195758 0.14195757\n",
            " 0.14195758 0.14195757 0.14195757 0.14195758]\n",
            "3 day output [[0.14195758]]\n",
            "4 day input [0.14195758 0.14195758 0.14195758 0.14195758 0.14195758 0.14195758\n",
            " 0.14195758 0.1419576  0.1419576  0.14195758 0.1419576  0.1419576\n",
            " 0.1419576  0.14195758 0.14195757 0.14195758 0.14195758 0.14195758\n",
            " 0.14195758 0.14195758 0.1419576  0.1419576  0.14195758 0.14195758\n",
            " 0.14195758 0.1419576  0.1419576  0.14195758 0.1419576  0.1419576\n",
            " 0.1419576  0.1419576  0.1419576  0.1419576  0.14195758 0.1419576\n",
            " 0.14195758 0.1419576  0.1419576  0.14195758 0.1419576  0.14195758\n",
            " 0.1419576  0.14195758 0.1419576  0.1419576  0.14195758 0.1419576\n",
            " 0.1419576  0.1419576  0.14195758 0.14195758 0.14195758 0.14195758\n",
            " 0.14195758 0.1419576  0.14195758 0.14195758 0.14195758 0.1419576\n",
            " 0.1419576  0.1419576  0.1419576  0.14195758 0.14195758 0.14195758\n",
            " 0.14195758 0.14195758 0.1419576  0.14195758 0.1419576  0.1419576\n",
            " 0.1419576  0.1419576  0.1419576  0.1419576  0.1419576  0.1419576\n",
            " 0.1419576  0.1419576  0.1419576  0.1419576  0.1419576  0.1419576\n",
            " 0.1419576  0.1419576  0.1419576  0.1419576  0.1419576  0.1419576\n",
            " 0.14195758 0.14195758 0.14195757 0.14195758 0.14195757 0.14195758\n",
            " 0.14195757 0.14195757 0.14195758 0.14195758]\n",
            "4 day output [[0.14195758]]\n",
            "5 day input [0.14195758 0.14195758 0.14195758 0.14195758 0.14195758 0.14195758\n",
            " 0.1419576  0.1419576  0.14195758 0.1419576  0.1419576  0.1419576\n",
            " 0.14195758 0.14195757 0.14195758 0.14195758 0.14195758 0.14195758\n",
            " 0.14195758 0.1419576  0.1419576  0.14195758 0.14195758 0.14195758\n",
            " 0.1419576  0.1419576  0.14195758 0.1419576  0.1419576  0.1419576\n",
            " 0.1419576  0.1419576  0.1419576  0.14195758 0.1419576  0.14195758\n",
            " 0.1419576  0.1419576  0.14195758 0.1419576  0.14195758 0.1419576\n",
            " 0.14195758 0.1419576  0.1419576  0.14195758 0.1419576  0.1419576\n",
            " 0.1419576  0.14195758 0.14195758 0.14195758 0.14195758 0.14195758\n",
            " 0.1419576  0.14195758 0.14195758 0.14195758 0.1419576  0.1419576\n",
            " 0.1419576  0.1419576  0.14195758 0.14195758 0.14195758 0.14195758\n",
            " 0.14195758 0.1419576  0.14195758 0.1419576  0.1419576  0.1419576\n",
            " 0.1419576  0.1419576  0.1419576  0.1419576  0.1419576  0.1419576\n",
            " 0.1419576  0.1419576  0.1419576  0.1419576  0.1419576  0.1419576\n",
            " 0.1419576  0.1419576  0.1419576  0.1419576  0.1419576  0.14195758\n",
            " 0.14195758 0.14195757 0.14195758 0.14195757 0.14195758 0.14195757\n",
            " 0.14195757 0.14195758 0.14195758 0.14195758]\n",
            "5 day output [[0.14195758]]\n",
            "6 day input [0.14195758 0.14195758 0.14195758 0.14195758 0.14195758 0.1419576\n",
            " 0.1419576  0.14195758 0.1419576  0.1419576  0.1419576  0.14195758\n",
            " 0.14195757 0.14195758 0.14195758 0.14195758 0.14195758 0.14195758\n",
            " 0.1419576  0.1419576  0.14195758 0.14195758 0.14195758 0.1419576\n",
            " 0.1419576  0.14195758 0.1419576  0.1419576  0.1419576  0.1419576\n",
            " 0.1419576  0.1419576  0.14195758 0.1419576  0.14195758 0.1419576\n",
            " 0.1419576  0.14195758 0.1419576  0.14195758 0.1419576  0.14195758\n",
            " 0.1419576  0.1419576  0.14195758 0.1419576  0.1419576  0.1419576\n",
            " 0.14195758 0.14195758 0.14195758 0.14195758 0.14195758 0.1419576\n",
            " 0.14195758 0.14195758 0.14195758 0.1419576  0.1419576  0.1419576\n",
            " 0.1419576  0.14195758 0.14195758 0.14195758 0.14195758 0.14195758\n",
            " 0.1419576  0.14195758 0.1419576  0.1419576  0.1419576  0.1419576\n",
            " 0.1419576  0.1419576  0.1419576  0.1419576  0.1419576  0.1419576\n",
            " 0.1419576  0.1419576  0.1419576  0.1419576  0.1419576  0.1419576\n",
            " 0.1419576  0.1419576  0.1419576  0.1419576  0.14195758 0.14195758\n",
            " 0.14195757 0.14195758 0.14195757 0.14195758 0.14195757 0.14195757\n",
            " 0.14195758 0.14195758 0.14195758 0.14195758]\n",
            "6 day output [[0.1419576]]\n",
            "7 day input [0.14195758 0.14195758 0.14195758 0.14195758 0.1419576  0.1419576\n",
            " 0.14195758 0.1419576  0.1419576  0.1419576  0.14195758 0.14195757\n",
            " 0.14195758 0.14195758 0.14195758 0.14195758 0.14195758 0.1419576\n",
            " 0.1419576  0.14195758 0.14195758 0.14195758 0.1419576  0.1419576\n",
            " 0.14195758 0.1419576  0.1419576  0.1419576  0.1419576  0.1419576\n",
            " 0.1419576  0.14195758 0.1419576  0.14195758 0.1419576  0.1419576\n",
            " 0.14195758 0.1419576  0.14195758 0.1419576  0.14195758 0.1419576\n",
            " 0.1419576  0.14195758 0.1419576  0.1419576  0.1419576  0.14195758\n",
            " 0.14195758 0.14195758 0.14195758 0.14195758 0.1419576  0.14195758\n",
            " 0.14195758 0.14195758 0.1419576  0.1419576  0.1419576  0.1419576\n",
            " 0.14195758 0.14195758 0.14195758 0.14195758 0.14195758 0.1419576\n",
            " 0.14195758 0.1419576  0.1419576  0.1419576  0.1419576  0.1419576\n",
            " 0.1419576  0.1419576  0.1419576  0.1419576  0.1419576  0.1419576\n",
            " 0.1419576  0.1419576  0.1419576  0.1419576  0.1419576  0.1419576\n",
            " 0.1419576  0.1419576  0.1419576  0.14195758 0.14195758 0.14195757\n",
            " 0.14195758 0.14195757 0.14195758 0.14195757 0.14195757 0.14195758\n",
            " 0.14195758 0.14195758 0.14195758 0.1419576 ]\n",
            "7 day output [[0.14195758]]\n",
            "8 day input [0.14195758 0.14195758 0.14195758 0.1419576  0.1419576  0.14195758\n",
            " 0.1419576  0.1419576  0.1419576  0.14195758 0.14195757 0.14195758\n",
            " 0.14195758 0.14195758 0.14195758 0.14195758 0.1419576  0.1419576\n",
            " 0.14195758 0.14195758 0.14195758 0.1419576  0.1419576  0.14195758\n",
            " 0.1419576  0.1419576  0.1419576  0.1419576  0.1419576  0.1419576\n",
            " 0.14195758 0.1419576  0.14195758 0.1419576  0.1419576  0.14195758\n",
            " 0.1419576  0.14195758 0.1419576  0.14195758 0.1419576  0.1419576\n",
            " 0.14195758 0.1419576  0.1419576  0.1419576  0.14195758 0.14195758\n",
            " 0.14195758 0.14195758 0.14195758 0.1419576  0.14195758 0.14195758\n",
            " 0.14195758 0.1419576  0.1419576  0.1419576  0.1419576  0.14195758\n",
            " 0.14195758 0.14195758 0.14195758 0.14195758 0.1419576  0.14195758\n",
            " 0.1419576  0.1419576  0.1419576  0.1419576  0.1419576  0.1419576\n",
            " 0.1419576  0.1419576  0.1419576  0.1419576  0.1419576  0.1419576\n",
            " 0.1419576  0.1419576  0.1419576  0.1419576  0.1419576  0.1419576\n",
            " 0.1419576  0.1419576  0.14195758 0.14195758 0.14195757 0.14195758\n",
            " 0.14195757 0.14195758 0.14195757 0.14195757 0.14195758 0.14195758\n",
            " 0.14195758 0.14195758 0.1419576  0.14195758]\n",
            "8 day output [[0.1419576]]\n",
            "9 day input [0.14195758 0.14195758 0.1419576  0.1419576  0.14195758 0.1419576\n",
            " 0.1419576  0.1419576  0.14195758 0.14195757 0.14195758 0.14195758\n",
            " 0.14195758 0.14195758 0.14195758 0.1419576  0.1419576  0.14195758\n",
            " 0.14195758 0.14195758 0.1419576  0.1419576  0.14195758 0.1419576\n",
            " 0.1419576  0.1419576  0.1419576  0.1419576  0.1419576  0.14195758\n",
            " 0.1419576  0.14195758 0.1419576  0.1419576  0.14195758 0.1419576\n",
            " 0.14195758 0.1419576  0.14195758 0.1419576  0.1419576  0.14195758\n",
            " 0.1419576  0.1419576  0.1419576  0.14195758 0.14195758 0.14195758\n",
            " 0.14195758 0.14195758 0.1419576  0.14195758 0.14195758 0.14195758\n",
            " 0.1419576  0.1419576  0.1419576  0.1419576  0.14195758 0.14195758\n",
            " 0.14195758 0.14195758 0.14195758 0.1419576  0.14195758 0.1419576\n",
            " 0.1419576  0.1419576  0.1419576  0.1419576  0.1419576  0.1419576\n",
            " 0.1419576  0.1419576  0.1419576  0.1419576  0.1419576  0.1419576\n",
            " 0.1419576  0.1419576  0.1419576  0.1419576  0.1419576  0.1419576\n",
            " 0.1419576  0.14195758 0.14195758 0.14195757 0.14195758 0.14195757\n",
            " 0.14195758 0.14195757 0.14195757 0.14195758 0.14195758 0.14195758\n",
            " 0.14195758 0.1419576  0.14195758 0.1419576 ]\n",
            "9 day output [[0.14195758]]\n",
            "10 day input [0.14195758 0.1419576  0.1419576  0.14195758 0.1419576  0.1419576\n",
            " 0.1419576  0.14195758 0.14195757 0.14195758 0.14195758 0.14195758\n",
            " 0.14195758 0.14195758 0.1419576  0.1419576  0.14195758 0.14195758\n",
            " 0.14195758 0.1419576  0.1419576  0.14195758 0.1419576  0.1419576\n",
            " 0.1419576  0.1419576  0.1419576  0.1419576  0.14195758 0.1419576\n",
            " 0.14195758 0.1419576  0.1419576  0.14195758 0.1419576  0.14195758\n",
            " 0.1419576  0.14195758 0.1419576  0.1419576  0.14195758 0.1419576\n",
            " 0.1419576  0.1419576  0.14195758 0.14195758 0.14195758 0.14195758\n",
            " 0.14195758 0.1419576  0.14195758 0.14195758 0.14195758 0.1419576\n",
            " 0.1419576  0.1419576  0.1419576  0.14195758 0.14195758 0.14195758\n",
            " 0.14195758 0.14195758 0.1419576  0.14195758 0.1419576  0.1419576\n",
            " 0.1419576  0.1419576  0.1419576  0.1419576  0.1419576  0.1419576\n",
            " 0.1419576  0.1419576  0.1419576  0.1419576  0.1419576  0.1419576\n",
            " 0.1419576  0.1419576  0.1419576  0.1419576  0.1419576  0.1419576\n",
            " 0.14195758 0.14195758 0.14195757 0.14195758 0.14195757 0.14195758\n",
            " 0.14195757 0.14195757 0.14195758 0.14195758 0.14195758 0.14195758\n",
            " 0.1419576  0.14195758 0.1419576  0.14195758]\n",
            "10 day output [[0.1419576]]\n",
            "11 day input [0.1419576  0.1419576  0.14195758 0.1419576  0.1419576  0.1419576\n",
            " 0.14195758 0.14195757 0.14195758 0.14195758 0.14195758 0.14195758\n",
            " 0.14195758 0.1419576  0.1419576  0.14195758 0.14195758 0.14195758\n",
            " 0.1419576  0.1419576  0.14195758 0.1419576  0.1419576  0.1419576\n",
            " 0.1419576  0.1419576  0.1419576  0.14195758 0.1419576  0.14195758\n",
            " 0.1419576  0.1419576  0.14195758 0.1419576  0.14195758 0.1419576\n",
            " 0.14195758 0.1419576  0.1419576  0.14195758 0.1419576  0.1419576\n",
            " 0.1419576  0.14195758 0.14195758 0.14195758 0.14195758 0.14195758\n",
            " 0.1419576  0.14195758 0.14195758 0.14195758 0.1419576  0.1419576\n",
            " 0.1419576  0.1419576  0.14195758 0.14195758 0.14195758 0.14195758\n",
            " 0.14195758 0.1419576  0.14195758 0.1419576  0.1419576  0.1419576\n",
            " 0.1419576  0.1419576  0.1419576  0.1419576  0.1419576  0.1419576\n",
            " 0.1419576  0.1419576  0.1419576  0.1419576  0.1419576  0.1419576\n",
            " 0.1419576  0.1419576  0.1419576  0.1419576  0.1419576  0.14195758\n",
            " 0.14195758 0.14195757 0.14195758 0.14195757 0.14195758 0.14195757\n",
            " 0.14195757 0.14195758 0.14195758 0.14195758 0.14195758 0.1419576\n",
            " 0.14195758 0.1419576  0.14195758 0.1419576 ]\n",
            "11 day output [[0.1419576]]\n",
            "12 day input [0.1419576  0.14195758 0.1419576  0.1419576  0.1419576  0.14195758\n",
            " 0.14195757 0.14195758 0.14195758 0.14195758 0.14195758 0.14195758\n",
            " 0.1419576  0.1419576  0.14195758 0.14195758 0.14195758 0.1419576\n",
            " 0.1419576  0.14195758 0.1419576  0.1419576  0.1419576  0.1419576\n",
            " 0.1419576  0.1419576  0.14195758 0.1419576  0.14195758 0.1419576\n",
            " 0.1419576  0.14195758 0.1419576  0.14195758 0.1419576  0.14195758\n",
            " 0.1419576  0.1419576  0.14195758 0.1419576  0.1419576  0.1419576\n",
            " 0.14195758 0.14195758 0.14195758 0.14195758 0.14195758 0.1419576\n",
            " 0.14195758 0.14195758 0.14195758 0.1419576  0.1419576  0.1419576\n",
            " 0.1419576  0.14195758 0.14195758 0.14195758 0.14195758 0.14195758\n",
            " 0.1419576  0.14195758 0.1419576  0.1419576  0.1419576  0.1419576\n",
            " 0.1419576  0.1419576  0.1419576  0.1419576  0.1419576  0.1419576\n",
            " 0.1419576  0.1419576  0.1419576  0.1419576  0.1419576  0.1419576\n",
            " 0.1419576  0.1419576  0.1419576  0.1419576  0.14195758 0.14195758\n",
            " 0.14195757 0.14195758 0.14195757 0.14195758 0.14195757 0.14195757\n",
            " 0.14195758 0.14195758 0.14195758 0.14195758 0.1419576  0.14195758\n",
            " 0.1419576  0.14195758 0.1419576  0.1419576 ]\n",
            "12 day output [[0.1419576]]\n",
            "13 day input [0.14195758 0.1419576  0.1419576  0.1419576  0.14195758 0.14195757\n",
            " 0.14195758 0.14195758 0.14195758 0.14195758 0.14195758 0.1419576\n",
            " 0.1419576  0.14195758 0.14195758 0.14195758 0.1419576  0.1419576\n",
            " 0.14195758 0.1419576  0.1419576  0.1419576  0.1419576  0.1419576\n",
            " 0.1419576  0.14195758 0.1419576  0.14195758 0.1419576  0.1419576\n",
            " 0.14195758 0.1419576  0.14195758 0.1419576  0.14195758 0.1419576\n",
            " 0.1419576  0.14195758 0.1419576  0.1419576  0.1419576  0.14195758\n",
            " 0.14195758 0.14195758 0.14195758 0.14195758 0.1419576  0.14195758\n",
            " 0.14195758 0.14195758 0.1419576  0.1419576  0.1419576  0.1419576\n",
            " 0.14195758 0.14195758 0.14195758 0.14195758 0.14195758 0.1419576\n",
            " 0.14195758 0.1419576  0.1419576  0.1419576  0.1419576  0.1419576\n",
            " 0.1419576  0.1419576  0.1419576  0.1419576  0.1419576  0.1419576\n",
            " 0.1419576  0.1419576  0.1419576  0.1419576  0.1419576  0.1419576\n",
            " 0.1419576  0.1419576  0.1419576  0.14195758 0.14195758 0.14195757\n",
            " 0.14195758 0.14195757 0.14195758 0.14195757 0.14195757 0.14195758\n",
            " 0.14195758 0.14195758 0.14195758 0.1419576  0.14195758 0.1419576\n",
            " 0.14195758 0.1419576  0.1419576  0.1419576 ]\n",
            "13 day output [[0.1419576]]\n",
            "14 day input [0.1419576  0.1419576  0.1419576  0.14195758 0.14195757 0.14195758\n",
            " 0.14195758 0.14195758 0.14195758 0.14195758 0.1419576  0.1419576\n",
            " 0.14195758 0.14195758 0.14195758 0.1419576  0.1419576  0.14195758\n",
            " 0.1419576  0.1419576  0.1419576  0.1419576  0.1419576  0.1419576\n",
            " 0.14195758 0.1419576  0.14195758 0.1419576  0.1419576  0.14195758\n",
            " 0.1419576  0.14195758 0.1419576  0.14195758 0.1419576  0.1419576\n",
            " 0.14195758 0.1419576  0.1419576  0.1419576  0.14195758 0.14195758\n",
            " 0.14195758 0.14195758 0.14195758 0.1419576  0.14195758 0.14195758\n",
            " 0.14195758 0.1419576  0.1419576  0.1419576  0.1419576  0.14195758\n",
            " 0.14195758 0.14195758 0.14195758 0.14195758 0.1419576  0.14195758\n",
            " 0.1419576  0.1419576  0.1419576  0.1419576  0.1419576  0.1419576\n",
            " 0.1419576  0.1419576  0.1419576  0.1419576  0.1419576  0.1419576\n",
            " 0.1419576  0.1419576  0.1419576  0.1419576  0.1419576  0.1419576\n",
            " 0.1419576  0.1419576  0.14195758 0.14195758 0.14195757 0.14195758\n",
            " 0.14195757 0.14195758 0.14195757 0.14195757 0.14195758 0.14195758\n",
            " 0.14195758 0.14195758 0.1419576  0.14195758 0.1419576  0.14195758\n",
            " 0.1419576  0.1419576  0.1419576  0.1419576 ]\n",
            "14 day output [[0.1419576]]\n",
            "15 day input [0.1419576  0.1419576  0.14195758 0.14195757 0.14195758 0.14195758\n",
            " 0.14195758 0.14195758 0.14195758 0.1419576  0.1419576  0.14195758\n",
            " 0.14195758 0.14195758 0.1419576  0.1419576  0.14195758 0.1419576\n",
            " 0.1419576  0.1419576  0.1419576  0.1419576  0.1419576  0.14195758\n",
            " 0.1419576  0.14195758 0.1419576  0.1419576  0.14195758 0.1419576\n",
            " 0.14195758 0.1419576  0.14195758 0.1419576  0.1419576  0.14195758\n",
            " 0.1419576  0.1419576  0.1419576  0.14195758 0.14195758 0.14195758\n",
            " 0.14195758 0.14195758 0.1419576  0.14195758 0.14195758 0.14195758\n",
            " 0.1419576  0.1419576  0.1419576  0.1419576  0.14195758 0.14195758\n",
            " 0.14195758 0.14195758 0.14195758 0.1419576  0.14195758 0.1419576\n",
            " 0.1419576  0.1419576  0.1419576  0.1419576  0.1419576  0.1419576\n",
            " 0.1419576  0.1419576  0.1419576  0.1419576  0.1419576  0.1419576\n",
            " 0.1419576  0.1419576  0.1419576  0.1419576  0.1419576  0.1419576\n",
            " 0.1419576  0.14195758 0.14195758 0.14195757 0.14195758 0.14195757\n",
            " 0.14195758 0.14195757 0.14195757 0.14195758 0.14195758 0.14195758\n",
            " 0.14195758 0.1419576  0.14195758 0.1419576  0.14195758 0.1419576\n",
            " 0.1419576  0.1419576  0.1419576  0.1419576 ]\n",
            "15 day output [[0.1419576]]\n",
            "16 day input [0.1419576  0.14195758 0.14195757 0.14195758 0.14195758 0.14195758\n",
            " 0.14195758 0.14195758 0.1419576  0.1419576  0.14195758 0.14195758\n",
            " 0.14195758 0.1419576  0.1419576  0.14195758 0.1419576  0.1419576\n",
            " 0.1419576  0.1419576  0.1419576  0.1419576  0.14195758 0.1419576\n",
            " 0.14195758 0.1419576  0.1419576  0.14195758 0.1419576  0.14195758\n",
            " 0.1419576  0.14195758 0.1419576  0.1419576  0.14195758 0.1419576\n",
            " 0.1419576  0.1419576  0.14195758 0.14195758 0.14195758 0.14195758\n",
            " 0.14195758 0.1419576  0.14195758 0.14195758 0.14195758 0.1419576\n",
            " 0.1419576  0.1419576  0.1419576  0.14195758 0.14195758 0.14195758\n",
            " 0.14195758 0.14195758 0.1419576  0.14195758 0.1419576  0.1419576\n",
            " 0.1419576  0.1419576  0.1419576  0.1419576  0.1419576  0.1419576\n",
            " 0.1419576  0.1419576  0.1419576  0.1419576  0.1419576  0.1419576\n",
            " 0.1419576  0.1419576  0.1419576  0.1419576  0.1419576  0.1419576\n",
            " 0.14195758 0.14195758 0.14195757 0.14195758 0.14195757 0.14195758\n",
            " 0.14195757 0.14195757 0.14195758 0.14195758 0.14195758 0.14195758\n",
            " 0.1419576  0.14195758 0.1419576  0.14195758 0.1419576  0.1419576\n",
            " 0.1419576  0.1419576  0.1419576  0.1419576 ]\n",
            "16 day output [[0.14195758]]\n",
            "17 day input [0.14195758 0.14195757 0.14195758 0.14195758 0.14195758 0.14195758\n",
            " 0.14195758 0.1419576  0.1419576  0.14195758 0.14195758 0.14195758\n",
            " 0.1419576  0.1419576  0.14195758 0.1419576  0.1419576  0.1419576\n",
            " 0.1419576  0.1419576  0.1419576  0.14195758 0.1419576  0.14195758\n",
            " 0.1419576  0.1419576  0.14195758 0.1419576  0.14195758 0.1419576\n",
            " 0.14195758 0.1419576  0.1419576  0.14195758 0.1419576  0.1419576\n",
            " 0.1419576  0.14195758 0.14195758 0.14195758 0.14195758 0.14195758\n",
            " 0.1419576  0.14195758 0.14195758 0.14195758 0.1419576  0.1419576\n",
            " 0.1419576  0.1419576  0.14195758 0.14195758 0.14195758 0.14195758\n",
            " 0.14195758 0.1419576  0.14195758 0.1419576  0.1419576  0.1419576\n",
            " 0.1419576  0.1419576  0.1419576  0.1419576  0.1419576  0.1419576\n",
            " 0.1419576  0.1419576  0.1419576  0.1419576  0.1419576  0.1419576\n",
            " 0.1419576  0.1419576  0.1419576  0.1419576  0.1419576  0.14195758\n",
            " 0.14195758 0.14195757 0.14195758 0.14195757 0.14195758 0.14195757\n",
            " 0.14195757 0.14195758 0.14195758 0.14195758 0.14195758 0.1419576\n",
            " 0.14195758 0.1419576  0.14195758 0.1419576  0.1419576  0.1419576\n",
            " 0.1419576  0.1419576  0.1419576  0.14195758]\n",
            "17 day output [[0.14195758]]\n",
            "18 day input [0.14195757 0.14195758 0.14195758 0.14195758 0.14195758 0.14195758\n",
            " 0.1419576  0.1419576  0.14195758 0.14195758 0.14195758 0.1419576\n",
            " 0.1419576  0.14195758 0.1419576  0.1419576  0.1419576  0.1419576\n",
            " 0.1419576  0.1419576  0.14195758 0.1419576  0.14195758 0.1419576\n",
            " 0.1419576  0.14195758 0.1419576  0.14195758 0.1419576  0.14195758\n",
            " 0.1419576  0.1419576  0.14195758 0.1419576  0.1419576  0.1419576\n",
            " 0.14195758 0.14195758 0.14195758 0.14195758 0.14195758 0.1419576\n",
            " 0.14195758 0.14195758 0.14195758 0.1419576  0.1419576  0.1419576\n",
            " 0.1419576  0.14195758 0.14195758 0.14195758 0.14195758 0.14195758\n",
            " 0.1419576  0.14195758 0.1419576  0.1419576  0.1419576  0.1419576\n",
            " 0.1419576  0.1419576  0.1419576  0.1419576  0.1419576  0.1419576\n",
            " 0.1419576  0.1419576  0.1419576  0.1419576  0.1419576  0.1419576\n",
            " 0.1419576  0.1419576  0.1419576  0.1419576  0.14195758 0.14195758\n",
            " 0.14195757 0.14195758 0.14195757 0.14195758 0.14195757 0.14195757\n",
            " 0.14195758 0.14195758 0.14195758 0.14195758 0.1419576  0.14195758\n",
            " 0.1419576  0.14195758 0.1419576  0.1419576  0.1419576  0.1419576\n",
            " 0.1419576  0.1419576  0.14195758 0.14195758]\n",
            "18 day output [[0.1419576]]\n",
            "19 day input [0.14195758 0.14195758 0.14195758 0.14195758 0.14195758 0.1419576\n",
            " 0.1419576  0.14195758 0.14195758 0.14195758 0.1419576  0.1419576\n",
            " 0.14195758 0.1419576  0.1419576  0.1419576  0.1419576  0.1419576\n",
            " 0.1419576  0.14195758 0.1419576  0.14195758 0.1419576  0.1419576\n",
            " 0.14195758 0.1419576  0.14195758 0.1419576  0.14195758 0.1419576\n",
            " 0.1419576  0.14195758 0.1419576  0.1419576  0.1419576  0.14195758\n",
            " 0.14195758 0.14195758 0.14195758 0.14195758 0.1419576  0.14195758\n",
            " 0.14195758 0.14195758 0.1419576  0.1419576  0.1419576  0.1419576\n",
            " 0.14195758 0.14195758 0.14195758 0.14195758 0.14195758 0.1419576\n",
            " 0.14195758 0.1419576  0.1419576  0.1419576  0.1419576  0.1419576\n",
            " 0.1419576  0.1419576  0.1419576  0.1419576  0.1419576  0.1419576\n",
            " 0.1419576  0.1419576  0.1419576  0.1419576  0.1419576  0.1419576\n",
            " 0.1419576  0.1419576  0.1419576  0.14195758 0.14195758 0.14195757\n",
            " 0.14195758 0.14195757 0.14195758 0.14195757 0.14195757 0.14195758\n",
            " 0.14195758 0.14195758 0.14195758 0.1419576  0.14195758 0.1419576\n",
            " 0.14195758 0.1419576  0.1419576  0.1419576  0.1419576  0.1419576\n",
            " 0.1419576  0.14195758 0.14195758 0.1419576 ]\n",
            "19 day output [[0.1419576]]\n",
            "20 day input [0.14195758 0.14195758 0.14195758 0.14195758 0.1419576  0.1419576\n",
            " 0.14195758 0.14195758 0.14195758 0.1419576  0.1419576  0.14195758\n",
            " 0.1419576  0.1419576  0.1419576  0.1419576  0.1419576  0.1419576\n",
            " 0.14195758 0.1419576  0.14195758 0.1419576  0.1419576  0.14195758\n",
            " 0.1419576  0.14195758 0.1419576  0.14195758 0.1419576  0.1419576\n",
            " 0.14195758 0.1419576  0.1419576  0.1419576  0.14195758 0.14195758\n",
            " 0.14195758 0.14195758 0.14195758 0.1419576  0.14195758 0.14195758\n",
            " 0.14195758 0.1419576  0.1419576  0.1419576  0.1419576  0.14195758\n",
            " 0.14195758 0.14195758 0.14195758 0.14195758 0.1419576  0.14195758\n",
            " 0.1419576  0.1419576  0.1419576  0.1419576  0.1419576  0.1419576\n",
            " 0.1419576  0.1419576  0.1419576  0.1419576  0.1419576  0.1419576\n",
            " 0.1419576  0.1419576  0.1419576  0.1419576  0.1419576  0.1419576\n",
            " 0.1419576  0.1419576  0.14195758 0.14195758 0.14195757 0.14195758\n",
            " 0.14195757 0.14195758 0.14195757 0.14195757 0.14195758 0.14195758\n",
            " 0.14195758 0.14195758 0.1419576  0.14195758 0.1419576  0.14195758\n",
            " 0.1419576  0.1419576  0.1419576  0.1419576  0.1419576  0.1419576\n",
            " 0.14195758 0.14195758 0.1419576  0.1419576 ]\n",
            "20 day output [[0.14195758]]\n",
            "21 day input [0.14195758 0.14195758 0.14195758 0.1419576  0.1419576  0.14195758\n",
            " 0.14195758 0.14195758 0.1419576  0.1419576  0.14195758 0.1419576\n",
            " 0.1419576  0.1419576  0.1419576  0.1419576  0.1419576  0.14195758\n",
            " 0.1419576  0.14195758 0.1419576  0.1419576  0.14195758 0.1419576\n",
            " 0.14195758 0.1419576  0.14195758 0.1419576  0.1419576  0.14195758\n",
            " 0.1419576  0.1419576  0.1419576  0.14195758 0.14195758 0.14195758\n",
            " 0.14195758 0.14195758 0.1419576  0.14195758 0.14195758 0.14195758\n",
            " 0.1419576  0.1419576  0.1419576  0.1419576  0.14195758 0.14195758\n",
            " 0.14195758 0.14195758 0.14195758 0.1419576  0.14195758 0.1419576\n",
            " 0.1419576  0.1419576  0.1419576  0.1419576  0.1419576  0.1419576\n",
            " 0.1419576  0.1419576  0.1419576  0.1419576  0.1419576  0.1419576\n",
            " 0.1419576  0.1419576  0.1419576  0.1419576  0.1419576  0.1419576\n",
            " 0.1419576  0.14195758 0.14195758 0.14195757 0.14195758 0.14195757\n",
            " 0.14195758 0.14195757 0.14195757 0.14195758 0.14195758 0.14195758\n",
            " 0.14195758 0.1419576  0.14195758 0.1419576  0.14195758 0.1419576\n",
            " 0.1419576  0.1419576  0.1419576  0.1419576  0.1419576  0.14195758\n",
            " 0.14195758 0.1419576  0.1419576  0.14195758]\n",
            "21 day output [[0.14195758]]\n",
            "22 day input [0.14195758 0.14195758 0.1419576  0.1419576  0.14195758 0.14195758\n",
            " 0.14195758 0.1419576  0.1419576  0.14195758 0.1419576  0.1419576\n",
            " 0.1419576  0.1419576  0.1419576  0.1419576  0.14195758 0.1419576\n",
            " 0.14195758 0.1419576  0.1419576  0.14195758 0.1419576  0.14195758\n",
            " 0.1419576  0.14195758 0.1419576  0.1419576  0.14195758 0.1419576\n",
            " 0.1419576  0.1419576  0.14195758 0.14195758 0.14195758 0.14195758\n",
            " 0.14195758 0.1419576  0.14195758 0.14195758 0.14195758 0.1419576\n",
            " 0.1419576  0.1419576  0.1419576  0.14195758 0.14195758 0.14195758\n",
            " 0.14195758 0.14195758 0.1419576  0.14195758 0.1419576  0.1419576\n",
            " 0.1419576  0.1419576  0.1419576  0.1419576  0.1419576  0.1419576\n",
            " 0.1419576  0.1419576  0.1419576  0.1419576  0.1419576  0.1419576\n",
            " 0.1419576  0.1419576  0.1419576  0.1419576  0.1419576  0.1419576\n",
            " 0.14195758 0.14195758 0.14195757 0.14195758 0.14195757 0.14195758\n",
            " 0.14195757 0.14195757 0.14195758 0.14195758 0.14195758 0.14195758\n",
            " 0.1419576  0.14195758 0.1419576  0.14195758 0.1419576  0.1419576\n",
            " 0.1419576  0.1419576  0.1419576  0.1419576  0.14195758 0.14195758\n",
            " 0.1419576  0.1419576  0.14195758 0.14195758]\n",
            "22 day output [[0.14195758]]\n",
            "23 day input [0.14195758 0.1419576  0.1419576  0.14195758 0.14195758 0.14195758\n",
            " 0.1419576  0.1419576  0.14195758 0.1419576  0.1419576  0.1419576\n",
            " 0.1419576  0.1419576  0.1419576  0.14195758 0.1419576  0.14195758\n",
            " 0.1419576  0.1419576  0.14195758 0.1419576  0.14195758 0.1419576\n",
            " 0.14195758 0.1419576  0.1419576  0.14195758 0.1419576  0.1419576\n",
            " 0.1419576  0.14195758 0.14195758 0.14195758 0.14195758 0.14195758\n",
            " 0.1419576  0.14195758 0.14195758 0.14195758 0.1419576  0.1419576\n",
            " 0.1419576  0.1419576  0.14195758 0.14195758 0.14195758 0.14195758\n",
            " 0.14195758 0.1419576  0.14195758 0.1419576  0.1419576  0.1419576\n",
            " 0.1419576  0.1419576  0.1419576  0.1419576  0.1419576  0.1419576\n",
            " 0.1419576  0.1419576  0.1419576  0.1419576  0.1419576  0.1419576\n",
            " 0.1419576  0.1419576  0.1419576  0.1419576  0.1419576  0.14195758\n",
            " 0.14195758 0.14195757 0.14195758 0.14195757 0.14195758 0.14195757\n",
            " 0.14195757 0.14195758 0.14195758 0.14195758 0.14195758 0.1419576\n",
            " 0.14195758 0.1419576  0.14195758 0.1419576  0.1419576  0.1419576\n",
            " 0.1419576  0.1419576  0.1419576  0.14195758 0.14195758 0.1419576\n",
            " 0.1419576  0.14195758 0.14195758 0.14195758]\n",
            "23 day output [[0.14195758]]\n",
            "24 day input [0.1419576  0.1419576  0.14195758 0.14195758 0.14195758 0.1419576\n",
            " 0.1419576  0.14195758 0.1419576  0.1419576  0.1419576  0.1419576\n",
            " 0.1419576  0.1419576  0.14195758 0.1419576  0.14195758 0.1419576\n",
            " 0.1419576  0.14195758 0.1419576  0.14195758 0.1419576  0.14195758\n",
            " 0.1419576  0.1419576  0.14195758 0.1419576  0.1419576  0.1419576\n",
            " 0.14195758 0.14195758 0.14195758 0.14195758 0.14195758 0.1419576\n",
            " 0.14195758 0.14195758 0.14195758 0.1419576  0.1419576  0.1419576\n",
            " 0.1419576  0.14195758 0.14195758 0.14195758 0.14195758 0.14195758\n",
            " 0.1419576  0.14195758 0.1419576  0.1419576  0.1419576  0.1419576\n",
            " 0.1419576  0.1419576  0.1419576  0.1419576  0.1419576  0.1419576\n",
            " 0.1419576  0.1419576  0.1419576  0.1419576  0.1419576  0.1419576\n",
            " 0.1419576  0.1419576  0.1419576  0.1419576  0.14195758 0.14195758\n",
            " 0.14195757 0.14195758 0.14195757 0.14195758 0.14195757 0.14195757\n",
            " 0.14195758 0.14195758 0.14195758 0.14195758 0.1419576  0.14195758\n",
            " 0.1419576  0.14195758 0.1419576  0.1419576  0.1419576  0.1419576\n",
            " 0.1419576  0.1419576  0.14195758 0.14195758 0.1419576  0.1419576\n",
            " 0.14195758 0.14195758 0.14195758 0.14195758]\n",
            "24 day output [[0.14195757]]\n",
            "25 day input [0.1419576  0.14195758 0.14195758 0.14195758 0.1419576  0.1419576\n",
            " 0.14195758 0.1419576  0.1419576  0.1419576  0.1419576  0.1419576\n",
            " 0.1419576  0.14195758 0.1419576  0.14195758 0.1419576  0.1419576\n",
            " 0.14195758 0.1419576  0.14195758 0.1419576  0.14195758 0.1419576\n",
            " 0.1419576  0.14195758 0.1419576  0.1419576  0.1419576  0.14195758\n",
            " 0.14195758 0.14195758 0.14195758 0.14195758 0.1419576  0.14195758\n",
            " 0.14195758 0.14195758 0.1419576  0.1419576  0.1419576  0.1419576\n",
            " 0.14195758 0.14195758 0.14195758 0.14195758 0.14195758 0.1419576\n",
            " 0.14195758 0.1419576  0.1419576  0.1419576  0.1419576  0.1419576\n",
            " 0.1419576  0.1419576  0.1419576  0.1419576  0.1419576  0.1419576\n",
            " 0.1419576  0.1419576  0.1419576  0.1419576  0.1419576  0.1419576\n",
            " 0.1419576  0.1419576  0.1419576  0.14195758 0.14195758 0.14195757\n",
            " 0.14195758 0.14195757 0.14195758 0.14195757 0.14195757 0.14195758\n",
            " 0.14195758 0.14195758 0.14195758 0.1419576  0.14195758 0.1419576\n",
            " 0.14195758 0.1419576  0.1419576  0.1419576  0.1419576  0.1419576\n",
            " 0.1419576  0.14195758 0.14195758 0.1419576  0.1419576  0.14195758\n",
            " 0.14195758 0.14195758 0.14195758 0.14195757]\n",
            "25 day output [[0.14195758]]\n",
            "26 day input [0.14195758 0.14195758 0.14195758 0.1419576  0.1419576  0.14195758\n",
            " 0.1419576  0.1419576  0.1419576  0.1419576  0.1419576  0.1419576\n",
            " 0.14195758 0.1419576  0.14195758 0.1419576  0.1419576  0.14195758\n",
            " 0.1419576  0.14195758 0.1419576  0.14195758 0.1419576  0.1419576\n",
            " 0.14195758 0.1419576  0.1419576  0.1419576  0.14195758 0.14195758\n",
            " 0.14195758 0.14195758 0.14195758 0.1419576  0.14195758 0.14195758\n",
            " 0.14195758 0.1419576  0.1419576  0.1419576  0.1419576  0.14195758\n",
            " 0.14195758 0.14195758 0.14195758 0.14195758 0.1419576  0.14195758\n",
            " 0.1419576  0.1419576  0.1419576  0.1419576  0.1419576  0.1419576\n",
            " 0.1419576  0.1419576  0.1419576  0.1419576  0.1419576  0.1419576\n",
            " 0.1419576  0.1419576  0.1419576  0.1419576  0.1419576  0.1419576\n",
            " 0.1419576  0.1419576  0.14195758 0.14195758 0.14195757 0.14195758\n",
            " 0.14195757 0.14195758 0.14195757 0.14195757 0.14195758 0.14195758\n",
            " 0.14195758 0.14195758 0.1419576  0.14195758 0.1419576  0.14195758\n",
            " 0.1419576  0.1419576  0.1419576  0.1419576  0.1419576  0.1419576\n",
            " 0.14195758 0.14195758 0.1419576  0.1419576  0.14195758 0.14195758\n",
            " 0.14195758 0.14195758 0.14195757 0.14195758]\n",
            "26 day output [[0.14195758]]\n",
            "27 day input [0.14195758 0.14195758 0.1419576  0.1419576  0.14195758 0.1419576\n",
            " 0.1419576  0.1419576  0.1419576  0.1419576  0.1419576  0.14195758\n",
            " 0.1419576  0.14195758 0.1419576  0.1419576  0.14195758 0.1419576\n",
            " 0.14195758 0.1419576  0.14195758 0.1419576  0.1419576  0.14195758\n",
            " 0.1419576  0.1419576  0.1419576  0.14195758 0.14195758 0.14195758\n",
            " 0.14195758 0.14195758 0.1419576  0.14195758 0.14195758 0.14195758\n",
            " 0.1419576  0.1419576  0.1419576  0.1419576  0.14195758 0.14195758\n",
            " 0.14195758 0.14195758 0.14195758 0.1419576  0.14195758 0.1419576\n",
            " 0.1419576  0.1419576  0.1419576  0.1419576  0.1419576  0.1419576\n",
            " 0.1419576  0.1419576  0.1419576  0.1419576  0.1419576  0.1419576\n",
            " 0.1419576  0.1419576  0.1419576  0.1419576  0.1419576  0.1419576\n",
            " 0.1419576  0.14195758 0.14195758 0.14195757 0.14195758 0.14195757\n",
            " 0.14195758 0.14195757 0.14195757 0.14195758 0.14195758 0.14195758\n",
            " 0.14195758 0.1419576  0.14195758 0.1419576  0.14195758 0.1419576\n",
            " 0.1419576  0.1419576  0.1419576  0.1419576  0.1419576  0.14195758\n",
            " 0.14195758 0.1419576  0.1419576  0.14195758 0.14195758 0.14195758\n",
            " 0.14195758 0.14195757 0.14195758 0.14195758]\n",
            "27 day output [[0.14195758]]\n",
            "28 day input [0.14195758 0.1419576  0.1419576  0.14195758 0.1419576  0.1419576\n",
            " 0.1419576  0.1419576  0.1419576  0.1419576  0.14195758 0.1419576\n",
            " 0.14195758 0.1419576  0.1419576  0.14195758 0.1419576  0.14195758\n",
            " 0.1419576  0.14195758 0.1419576  0.1419576  0.14195758 0.1419576\n",
            " 0.1419576  0.1419576  0.14195758 0.14195758 0.14195758 0.14195758\n",
            " 0.14195758 0.1419576  0.14195758 0.14195758 0.14195758 0.1419576\n",
            " 0.1419576  0.1419576  0.1419576  0.14195758 0.14195758 0.14195758\n",
            " 0.14195758 0.14195758 0.1419576  0.14195758 0.1419576  0.1419576\n",
            " 0.1419576  0.1419576  0.1419576  0.1419576  0.1419576  0.1419576\n",
            " 0.1419576  0.1419576  0.1419576  0.1419576  0.1419576  0.1419576\n",
            " 0.1419576  0.1419576  0.1419576  0.1419576  0.1419576  0.1419576\n",
            " 0.14195758 0.14195758 0.14195757 0.14195758 0.14195757 0.14195758\n",
            " 0.14195757 0.14195757 0.14195758 0.14195758 0.14195758 0.14195758\n",
            " 0.1419576  0.14195758 0.1419576  0.14195758 0.1419576  0.1419576\n",
            " 0.1419576  0.1419576  0.1419576  0.1419576  0.14195758 0.14195758\n",
            " 0.1419576  0.1419576  0.14195758 0.14195758 0.14195758 0.14195758\n",
            " 0.14195757 0.14195758 0.14195758 0.14195758]\n",
            "28 day output [[0.14195758]]\n",
            "29 day input [0.1419576  0.1419576  0.14195758 0.1419576  0.1419576  0.1419576\n",
            " 0.1419576  0.1419576  0.1419576  0.14195758 0.1419576  0.14195758\n",
            " 0.1419576  0.1419576  0.14195758 0.1419576  0.14195758 0.1419576\n",
            " 0.14195758 0.1419576  0.1419576  0.14195758 0.1419576  0.1419576\n",
            " 0.1419576  0.14195758 0.14195758 0.14195758 0.14195758 0.14195758\n",
            " 0.1419576  0.14195758 0.14195758 0.14195758 0.1419576  0.1419576\n",
            " 0.1419576  0.1419576  0.14195758 0.14195758 0.14195758 0.14195758\n",
            " 0.14195758 0.1419576  0.14195758 0.1419576  0.1419576  0.1419576\n",
            " 0.1419576  0.1419576  0.1419576  0.1419576  0.1419576  0.1419576\n",
            " 0.1419576  0.1419576  0.1419576  0.1419576  0.1419576  0.1419576\n",
            " 0.1419576  0.1419576  0.1419576  0.1419576  0.1419576  0.14195758\n",
            " 0.14195758 0.14195757 0.14195758 0.14195757 0.14195758 0.14195757\n",
            " 0.14195757 0.14195758 0.14195758 0.14195758 0.14195758 0.1419576\n",
            " 0.14195758 0.1419576  0.14195758 0.1419576  0.1419576  0.1419576\n",
            " 0.1419576  0.1419576  0.1419576  0.14195758 0.14195758 0.1419576\n",
            " 0.1419576  0.14195758 0.14195758 0.14195758 0.14195758 0.14195757\n",
            " 0.14195758 0.14195758 0.14195758 0.14195758]\n",
            "29 day output [[0.14195758]]\n",
            "[[0.14195756614208221], [0.14195756614208221], [0.1419575810432434], [0.1419575810432434], [0.1419575810432434], [0.1419575810432434], [0.1419575959444046], [0.1419575810432434], [0.1419575959444046], [0.1419575810432434], [0.1419575959444046], [0.1419575959444046], [0.1419575959444046], [0.1419575959444046], [0.1419575959444046], [0.1419575959444046], [0.1419575810432434], [0.1419575810432434], [0.1419575959444046], [0.1419575959444046], [0.1419575810432434], [0.1419575810432434], [0.1419575810432434], [0.1419575810432434], [0.14195756614208221], [0.1419575810432434], [0.1419575810432434], [0.1419575810432434], [0.1419575810432434], [0.1419575810432434]]\n"
          ],
          "name": "stdout"
        }
      ]
    },
    {
      "cell_type": "code",
      "metadata": {
        "colab": {
          "base_uri": "https://localhost:8080/"
        },
        "id": "ndLd6btLrF6u",
        "outputId": "2390e2ea-7374-4707-c16f-80d34946062e"
      },
      "source": [
        "len(df1)"
      ],
      "execution_count": null,
      "outputs": [
        {
          "output_type": "execute_result",
          "data": {
            "text/plain": [
              "2035"
            ]
          },
          "metadata": {
            "tags": []
          },
          "execution_count": 60
        }
      ]
    },
    {
      "cell_type": "code",
      "metadata": {
        "colab": {
          "base_uri": "https://localhost:8080/",
          "height": 282
        },
        "id": "n5jLYVeHvc3V",
        "outputId": "92c34d7b-0071-4615-9a8d-b295a9bfa36a"
      },
      "source": [
        "newday=np.arange(1,101)\n",
        "daypred=np.arange(101,131)\n",
        "import matplotlib.pyplot as plt\n",
        "\n",
        "dfn=df1.tolist()\n",
        "dfn.extend(list_ot)\n",
        "plt.plot(newday,scaler.inverse_transform(df1[1935:]))\n",
        "plt.plot(daypred,scaler.inverse_transform(list_ot))"
      ],
      "execution_count": null,
      "outputs": [
        {
          "output_type": "execute_result",
          "data": {
            "text/plain": [
              "[<matplotlib.lines.Line2D at 0x7fcbe02bf5d0>]"
            ]
          },
          "metadata": {
            "tags": []
          },
          "execution_count": 65
        },
        {
          "output_type": "display_data",
          "data": {
            "image/png": "[encoded data removed]",
            "text/plain": [
              "<Figure size 432x288 with 1 Axes>"
            ]
          },
          "metadata": {
            "tags": [],
            "needs_background": "light"
          }
        }
      ]
    },
    {
      "cell_type": "code",
      "metadata": {
        "colab": {
          "base_uri": "https://localhost:8080/",
          "height": 282
        },
        "id": "Z4GALlqPv24F",
        "outputId": "d0c50364-4dd4-4a23-b9eb-e30bd6ce6789"
      },
      "source": [
        "dfn=df1.tolist()\n",
        "dfn.extend(list_ot)\n",
        "plt.plot(dfn[1500:])"
      ],
      "execution_count": null,
      "outputs": [
        {
          "output_type": "execute_result",
          "data": {
            "text/plain": [
              "[<matplotlib.lines.Line2D at 0x7fcbdf58cd10>]"
            ]
          },
          "metadata": {
            "tags": []
          },
          "execution_count": 66
        },
        {
          "output_type": "display_data",
          "data": {
            "image/png": "[encoded data removed]",
            "text/plain": [
              "<Figure size 432x288 with 1 Axes>"
            ]
          },
          "metadata": {
            "tags": [],
            "needs_background": "light"
          }
        }
      ]
    },
    {
      "cell_type": "code",
      "metadata": {
        "id": "r3JkE2MCxEX6"
      },
      "source": [
        ""
      ],
      "execution_count": null,
      "outputs": []
    }
  ]
}